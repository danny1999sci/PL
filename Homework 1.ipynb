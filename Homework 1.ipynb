{
 "cells": [
  {
   "cell_type": "markdown",
   "id": "c1d91aab",
   "metadata": {},
   "source": [
    "# 新竹市所有公園 vs. 被認養的公園(綠地)\n",
    "## 可用來查找公園的造冊及認養狀態"
   ]
  },
  {
   "cell_type": "code",
   "execution_count": 6,
   "id": "268b02c6",
   "metadata": {},
   "outputs": [],
   "source": [
    "import pandas as pd #使用pandas套件\n",
    "\n",
    "# read csv file\n",
    "allpark = pd.read_csv(\"allpark.csv\",encoding='big5') #csv存在同一個資料夾 #強制編碼改成big5\n",
    "adoptedpark = pd.read_csv(\"adoptedpark.csv\",encoding='big5')"
   ]
  },
  {
   "cell_type": "code",
   "execution_count": 7,
   "id": "8744822f",
   "metadata": {},
   "outputs": [
    {
     "data": {
      "text/html": [
       "<div>\n",
       "<style scoped>\n",
       "    .dataframe tbody tr th:only-of-type {\n",
       "        vertical-align: middle;\n",
       "    }\n",
       "\n",
       "    .dataframe tbody tr th {\n",
       "        vertical-align: top;\n",
       "    }\n",
       "\n",
       "    .dataframe thead th {\n",
       "        text-align: right;\n",
       "    }\n",
       "</style>\n",
       "<table border=\"1\" class=\"dataframe\">\n",
       "  <thead>\n",
       "    <tr style=\"text-align: right;\">\n",
       "      <th></th>\n",
       "      <th>序號</th>\n",
       "      <th>行政區</th>\n",
       "      <th>公園名稱</th>\n",
       "      <th>位置</th>\n",
       "      <th>傳統遊具</th>\n",
       "      <th>特色或共融式遊具</th>\n",
       "    </tr>\n",
       "  </thead>\n",
       "  <tbody>\n",
       "    <tr>\n",
       "      <th>0</th>\n",
       "      <td>1</td>\n",
       "      <td>北區</td>\n",
       "      <td>湳雅公園</td>\n",
       "      <td>武陵路、湳雅街</td>\n",
       "      <td>組合遊具組溜滑梯1座、雙人翹翹板2座、單人翹翹板4座</td>\n",
       "      <td>無</td>\n",
       "    </tr>\n",
       "    <tr>\n",
       "      <th>1</th>\n",
       "      <td>2</td>\n",
       "      <td>北區</td>\n",
       "      <td>金雅廣場</td>\n",
       "      <td>金雅街、金雅三街</td>\n",
       "      <td>組合遊具組溜滑梯1座、雙人搖搖馬2座</td>\n",
       "      <td>無</td>\n",
       "    </tr>\n",
       "    <tr>\n",
       "      <th>2</th>\n",
       "      <td>3</td>\n",
       "      <td>北區</td>\n",
       "      <td>金雅兒童公園</td>\n",
       "      <td>金雅東街</td>\n",
       "      <td>攀爬遊具組1座</td>\n",
       "      <td>無</td>\n",
       "    </tr>\n",
       "  </tbody>\n",
       "</table>\n",
       "</div>"
      ],
      "text/plain": [
       "   序號 行政區    公園名稱        位置                        傳統遊具 特色或共融式遊具\n",
       "0   1  北區    湳雅公園   武陵路、湳雅街  組合遊具組溜滑梯1座、雙人翹翹板2座、單人翹翹板4座        無\n",
       "1   2  北區    金雅廣場  金雅街、金雅三街          組合遊具組溜滑梯1座、雙人搖搖馬2座        無\n",
       "2   3  北區  金雅兒童公園      金雅東街                     攀爬遊具組1座        無"
      ]
     },
     "execution_count": 7,
     "metadata": {},
     "output_type": "execute_result"
    }
   ],
   "source": [
    "allpark.head(3) #列出檔案前3個"
   ]
  },
  {
   "cell_type": "code",
   "execution_count": 1,
   "id": "1a81346a",
   "metadata": {},
   "outputs": [
    {
     "ename": "NameError",
     "evalue": "name 'adoptedpark' is not defined",
     "output_type": "error",
     "traceback": [
      "\u001b[1;31m---------------------------------------------------------------------------\u001b[0m",
      "\u001b[1;31mNameError\u001b[0m                                 Traceback (most recent call last)",
      "\u001b[1;32m~\\AppData\\Local\\Temp\\ipykernel_7520\\3934847967.py\u001b[0m in \u001b[0;36m<module>\u001b[1;34m\u001b[0m\n\u001b[1;32m----> 1\u001b[1;33m \u001b[0madoptedpark\u001b[0m\u001b[1;33m.\u001b[0m\u001b[0mtail\u001b[0m\u001b[1;33m(\u001b[0m\u001b[1;33m)\u001b[0m \u001b[1;31m#列出檔案後5個\u001b[0m\u001b[1;33m\u001b[0m\u001b[1;33m\u001b[0m\u001b[0m\n\u001b[0m\u001b[0;32m      2\u001b[0m \u001b[0mdf\u001b[0m\u001b[1;33m.\u001b[0m\u001b[0minfo\u001b[0m\u001b[1;33m(\u001b[0m\u001b[1;33m)\u001b[0m \u001b[1;31m#//檔案資料\u001b[0m\u001b[1;33m\u001b[0m\u001b[1;33m\u001b[0m\u001b[0m\n",
      "\u001b[1;31mNameError\u001b[0m: name 'adoptedpark' is not defined"
     ]
    }
   ],
   "source": [
    "adoptedpark.tail() #列出檔案後5個\n"
   ]
  },
  {
   "cell_type": "code",
   "execution_count": 4,
   "id": "70b7e87c",
   "metadata": {},
   "outputs": [
    {
     "data": {
      "text/html": [
       "<div>\n",
       "<style scoped>\n",
       "    .dataframe tbody tr th:only-of-type {\n",
       "        vertical-align: middle;\n",
       "    }\n",
       "\n",
       "    .dataframe tbody tr th {\n",
       "        vertical-align: top;\n",
       "    }\n",
       "\n",
       "    .dataframe thead th {\n",
       "        text-align: right;\n",
       "    }\n",
       "</style>\n",
       "<table border=\"1\" class=\"dataframe\">\n",
       "  <thead>\n",
       "    <tr style=\"text-align: right;\">\n",
       "      <th></th>\n",
       "      <th>序號</th>\n",
       "      <th>分區</th>\n",
       "      <th>認養場地</th>\n",
       "      <th>認養機關團體</th>\n",
       "    </tr>\n",
       "  </thead>\n",
       "  <tbody>\n",
       "    <tr>\n",
       "      <th>0</th>\n",
       "      <td>1</td>\n",
       "      <td>東區</td>\n",
       "      <td>金山六街10巷38號旁綠地</td>\n",
       "      <td>奕葉國際有限公司</td>\n",
       "    </tr>\n",
       "    <tr>\n",
       "      <th>1</th>\n",
       "      <td>2</td>\n",
       "      <td>北區</td>\n",
       "      <td>福林里親子公園</td>\n",
       "      <td>新竹市北區福林里</td>\n",
       "    </tr>\n",
       "    <tr>\n",
       "      <th>2</th>\n",
       "      <td>3</td>\n",
       "      <td>東區</td>\n",
       "      <td>新竹市後站公園</td>\n",
       "      <td>新竹市後站發展促進會</td>\n",
       "    </tr>\n",
       "    <tr>\n",
       "      <th>3</th>\n",
       "      <td>4</td>\n",
       "      <td>東區</td>\n",
       "      <td>親子公園</td>\n",
       "      <td>新竹市深耕關懷協會</td>\n",
       "    </tr>\n",
       "    <tr>\n",
       "      <th>4</th>\n",
       "      <td>5</td>\n",
       "      <td>東區</td>\n",
       "      <td>愛民公園</td>\n",
       "      <td>新竹市深耕關懷協會</td>\n",
       "    </tr>\n",
       "  </tbody>\n",
       "</table>\n",
       "</div>"
      ],
      "text/plain": [
       "   序號  分區           認養場地      認養機關團體\n",
       "0   1  東區  金山六街10巷38號旁綠地    奕葉國際有限公司\n",
       "1   2  北區        福林里親子公園    新竹市北區福林里\n",
       "2   3  東區        新竹市後站公園  新竹市後站發展促進會\n",
       "3   4  東區           親子公園   新竹市深耕關懷協會\n",
       "4   5  東區           愛民公園   新竹市深耕關懷協會"
      ]
     },
     "execution_count": 4,
     "metadata": {},
     "output_type": "execute_result"
    }
   ],
   "source": [
    "final_df = adoptedpark.drop_duplicates(subset=['認養場地']) #重複場地去掉 \n",
    "final_df.head()"
   ]
  },
  {
   "cell_type": "code",
   "execution_count": 5,
   "id": "dab352c2",
   "metadata": {},
   "outputs": [
    {
     "name": "stdout",
     "output_type": "stream",
     "text": [
      "全部公園: 97  vs. 已認養公園(綠地): 27\n"
     ]
    }
   ],
   "source": [
    "allpark = list(allpark['公園名稱']) #只要顯示名稱 #事件要有唯一和差異性\n",
    "adoptedpark = list(adoptedpark['認養場地'])\n",
    "print(\"全部公園:\", len(allpark), \" vs. 已認養公園(綠地):\", len(adoptedpark))"
   ]
  },
  {
   "cell_type": "code",
   "execution_count": 6,
   "id": "7c1e0268",
   "metadata": {
    "scrolled": true
   },
   "outputs": [],
   "source": [
    "s1=set(allpark)\n",
    "s2=set(adoptedpark)"
   ]
  },
  {
   "cell_type": "code",
   "execution_count": 7,
   "id": "959ed266",
   "metadata": {},
   "outputs": [
    {
     "name": "stdout",
     "output_type": "stream",
     "text": [
      "已登記造冊且被認養的公園(綠地)\n",
      "{'凌雲公園', '頂福公園', '民享公園', '台溪公園', '港南小公園', '北新公園', '櫻花公園', '愛民公園', '長和公園', '康樂公園', '忠孝公園'}\n"
     ]
    }
   ],
   "source": [
    "#交集 s1.intersection(s2)-->有在公園清單且被認養的綠地\n",
    "\n",
    "print('已登記造冊且被認養的公園(綠地)')\n",
    "print(s1&s2)"
   ]
  },
  {
   "cell_type": "code",
   "execution_count": 8,
   "id": "8f4442b6",
   "metadata": {},
   "outputs": [
    {
     "name": "stdout",
     "output_type": "stream",
     "text": [
      "所有公園(綠地)\n",
      "{'新竹公園', '民族公園', '綠水里市有公園', '金山面公園', '北新公園', '櫻花公園', '金雅兒童公園', '十八尖山森林公園', '金雅廣場', '頂埔公園', '十七公里-南港賞鳥區', '龍山公園', '牛埔公園', '康樂公園', '港北崇和公園', '高峰公25公園', '新竹公園_部B-域櫻花維護管理', '親子公園', '蟹仔埔公園', '建華、東山及綠水里汀甫圳步道', '興學公園', '鹽水公園', '光復公園', '關新公園（原日光公園）', '十七公里-水資源公園', '頂福公園', '中央公園', '香山公園', '西雅公園', '赤土崎公園', '南門公園', '水資源公園', '新莊公園', '光復文化公園（蔡氏門樓）', '天公壇公園', '馬偕公園', '愛民公園', '樹林頭公園', '金山公園', '長和公園', '武陵櫻花公園', '忠孝公園', '湳雅公園', '港南小公園', '南大公園', '建功高中前園道五', '民富公園', '仙水公園（仙水里綠地）', '大庄公園', '長青公園', '新竹綠園道', '金山六街10巷38號旁綠地', '凌雲公園', '新竹市後站公園', '光武段1065號', '興南公園', '十七公里-風情海岸', '金山東街旁公園', '明湖公園', '公兒四公園', '長興公園', '三民公園', '金雅親子公園', '建功一路旁園道五', '建國公園', '馬偕醫院旁園道五', '十七公里-紅樹林公園', '中光公園', '科學園路公園', '關東公園', '民享公園', '中山段二小段55-3_北大路201號', '高峰植物園', '祥園公園', '立功里園道五', '東區濕地生態教學公園', '建功一路59巷26號前綠地', '台溪親子公園', '東光公園', '三民綠園道（隆恩圳）三民路、（東大路至民主路）', '福林里親子公園', '南寮運動公園足球場', '長春公園', '中清公園', '南勢重劃公園', '金山六街旁公園', '一品公園', '台溪公園', '仙宮公園', '美森公園', '科園親子公園', '金雅段317、321地號_近金雅西街80巷', '東南公園_光復段地號693-2號', '綠光公園', '後站公園', '建功里園道五', '埔前公園', '牛埔東公園', '火車站前廣場', '新興公園', '二二八紀念公園', '金山十一街旁公園', '和平公園', '高翠公園', '頂竹圍公園', '紅樹林公園', '福林重劃公園', '南湖段1068號', '福林公園', '金雅公園', '中埔公園', '關埔公園'}\n"
     ]
    }
   ],
   "source": [
    "#聯集 s1.union(s2)-->所有公園和綠地\n",
    "\n",
    "print('所有公園(綠地)')\n",
    "print(s1|s2)"
   ]
  },
  {
   "cell_type": "code",
   "execution_count": 9,
   "id": "f0233a92",
   "metadata": {},
   "outputs": [
    {
     "name": "stdout",
     "output_type": "stream",
     "text": [
      "已登記造冊但未被認養的公園(綠地)\n",
      "{'民族公園', '綠水里市有公園', '金山面公園', '金雅兒童公園', '十八尖山森林公園', '龍山公園', '蟹仔埔公園', '鹽水公園', '光復公園', '中央公園', '南門公園', '天公壇公園', '馬偕公園', '樹林頭公園', '金山公園', '湳雅公園', '仙水公園（仙水里綠地）', '大庄公園', '長青公園', '興南公園', '十七公里-風情海岸', '明湖公園', '長興公園', '十七公里-紅樹林公園', '祥園公園', '東區濕地生態教學公園', '台溪親子公園', '東光公園', '長春公園', '仙宮公園', '科園親子公園', '後站公園', '埔前公園', '新興公園', '和平公園', '福林重劃公園', '中埔公園', '新竹公園', '金雅廣場', '頂埔公園', '十七公里-南港賞鳥區', '牛埔公園', '港北崇和公園', '高峰公25公園', '建華、東山及綠水里汀甫圳步道', '興學公園', '關新公園（原日光公園）', '十七公里-水資源公園', '香山公園', '西雅公園', '新莊公園', '光復文化公園（蔡氏門樓）', '武陵櫻花公園', '南大公園', '民富公園', '建功高中前園道五', '新竹綠園道', '金山東街旁公園', '公兒四公園', '三民公園', '建功一路旁園道五', '金雅親子公園', '建國公園', '馬偕醫院旁園道五', '中光公園', '關東公園', '高峰植物園', '立功里園道五', '三民綠園道（隆恩圳）三民路、（東大路至民主路）', '中清公園', '南勢重劃公園', '金山六街旁公園', '一品公園', '美森公園', '建功里園道五', '牛埔東公園', '火車站前廣場', '二二八紀念公園', '金山十一街旁公園', '高翠公園', '頂竹圍公園', '福林公園', '金雅公園', '赤土崎公園', '關埔公園'}\n"
     ]
    }
   ],
   "source": [
    "#差集 s1.difference(s2)-->有在公園清單但沒被認養的綠地\n",
    "\n",
    "print('已登記造冊但未被認養的公園(綠地)')\n",
    "print(s1-s2)"
   ]
  },
  {
   "cell_type": "code",
   "execution_count": 10,
   "id": "1351ff4b",
   "metadata": {},
   "outputs": [
    {
     "name": "stdout",
     "output_type": "stream",
     "text": [
      "未登記造冊但被認養的公園(綠地)\n",
      "{'金山六街10巷38號旁綠地', '新竹市後站公園', '親子公園', '科學園路公園', '光武段1065號', '水資源公園', '建功一路59巷26號前綠地', '金雅段317、321地號_近金雅西街80巷', '東南公園_光復段地號693-2號', '中山段二小段55-3_北大路201號', '紅樹林公園', '南湖段1068號', '新竹公園_部B-域櫻花維護管理', '福林里親子公園', '綠光公園', '南寮運動公園足球場'}\n"
     ]
    }
   ],
   "source": [
    "#差集 s2.difference(s1)-->沒有在公園清單但被認養的綠地\n",
    "\n",
    "print('未登記造冊但被認養的公園(綠地)')\n",
    "print(s2-s1)"
   ]
  },
  {
   "cell_type": "code",
   "execution_count": 11,
   "id": "f082d9ab",
   "metadata": {},
   "outputs": [
    {
     "name": "stdout",
     "output_type": "stream",
     "text": [
      "已登記造冊且未被認養的公園(綠地)\n",
      "以及未登記造冊且已被認養的公園(綠地)\n",
      "{'新竹公園', '民族公園', '綠水里市有公園', '金山面公園', '金雅兒童公園', '新竹公園_部B-域櫻花維護管理', '十八尖山森林公園', '金雅廣場', '頂埔公園', '龍山公園', '十七公里-南港賞鳥區', '牛埔公園', '港北崇和公園', '高峰公25公園', '親子公園', '蟹仔埔公園', '建華、東山及綠水里汀甫圳步道', '興學公園', '鹽水公園', '光復公園', '關新公園（原日光公園）', '十七公里-水資源公園', '中央公園', '香山公園', '西雅公園', '水資源公園', '南門公園', '赤土崎公園', '新莊公園', '光復文化公園（蔡氏門樓）', '天公壇公園', '馬偕公園', '樹林頭公園', '金山公園', '武陵櫻花公園', '湳雅公園', '南大公園', '建功高中前園道五', '民富公園', '仙水公園（仙水里綠地）', '大庄公園', '金山六街10巷38號旁綠地', '新竹市後站公園', '長青公園', '新竹綠園道', '光武段1065號', '興南公園', '十七公里-風情海岸', '金山東街旁公園', '明湖公園', '公兒四公園', '長興公園', '三民公園', '金雅親子公園', '建功一路旁園道五', '建國公園', '馬偕醫院旁園道五', '十七公里-紅樹林公園', '中光公園', '科學園路公園', '關東公園', '中山段二小段55-3_北大路201號', '高峰植物園', '祥園公園', '立功里園道五', '南寮運動公園足球場', '建功一路59巷26號前綠地', '福林里親子公園', '東區濕地生態教學公園', '台溪親子公園', '東光公園', '三民綠園道（隆恩圳）三民路、（東大路至民主路）', '長春公園', '中清公園', '南勢重劃公園', '金山六街旁公園', '一品公園', '仙宮公園', '美森公園', '科園親子公園', '金雅段317、321地號_近金雅西街80巷', '東南公園_光復段地號693-2號', '綠光公園', '後站公園', '建功里園道五', '埔前公園', '牛埔東公園', '火車站前廣場', '新興公園', '二二八紀念公園', '金山十一街旁公園', '和平公園', '高翠公園', '頂竹圍公園', '紅樹林公園', '福林重劃公園', '南湖段1068號', '福林公園', '金雅公園', '中埔公園', '關埔公園'}\n"
     ]
    }
   ],
   "source": [
    "#對稱差集(聯集-交集) s1.symmetric_difference(s2)-->沒有在公園清單已被認養的公園+有在公園清單未被認養的公園\n",
    "\n",
    "print('已登記造冊且未被認養的公園(綠地)\\n以及未登記造冊且已被認養的公園(綠地)')\n",
    "print(s1^s2)"
   ]
  },
  {
   "cell_type": "code",
   "execution_count": 12,
   "id": "65a32c13",
   "metadata": {},
   "outputs": [
    {
     "name": "stdout",
     "output_type": "stream",
     "text": [
      "請輸入想認養的公園:凌雲公園\n",
      "公園已經被認養，歡迎認養其他的\n"
     ]
    }
   ],
   "source": [
    "s = input(\"請輸入想認養的公園:\")\n",
    "if s in s1&s2:\n",
    "    print ('公園已經被認養，歡迎認養其他的')\n",
    "elif s in s1-s2:\n",
    "    print ('公園尚未被認養，歡迎認養')\n",
    "elif s in s2-s1:\n",
    "    print ('公園尚未造冊但已被認養，歡迎至政府網站登記造冊')\n",
    "else:\n",
    "    print(\"未查詢到此公園，再試試看其他的\")"
   ]
  },
  {
   "cell_type": "code",
   "execution_count": 13,
   "id": "76bfaae1",
   "metadata": {},
   "outputs": [
    {
     "name": "stdout",
     "output_type": "stream",
     "text": [
      "請輸入想認養的公園:民族公園\n",
      "公園尚未被認養，歡迎認養\n"
     ]
    }
   ],
   "source": [
    "t = input(\"請輸入想認養的公園:\")\n",
    "if t in s1&s2:\n",
    "    print ('公園已經被認養，歡迎認養其他的')\n",
    "elif t in s1-s2:\n",
    "    print ('公園尚未被認養，歡迎認養')\n",
    "elif t in s2-s1:\n",
    "    print ('公園尚未造冊但已被認養，歡迎至政府網站登記造冊')\n",
    "else:\n",
    "    print(\"未查詢到此公園，再試試看其他的\")"
   ]
  },
  {
   "cell_type": "code",
   "execution_count": 14,
   "id": "461defa3",
   "metadata": {},
   "outputs": [
    {
     "name": "stdout",
     "output_type": "stream",
     "text": [
      "請輸入想認養的公園:金山六街10巷38號旁綠地\n",
      "公園尚未造冊但已被認養，歡迎至政府網站登記造冊\n"
     ]
    }
   ],
   "source": [
    "u = input(\"請輸入想認養的公園:\")\n",
    "if u in s1&s2:\n",
    "    print ('公園已經被認養，歡迎認養其他的')\n",
    "elif u in s1-s2:\n",
    "    print ('公園尚未被認養，歡迎認養')\n",
    "elif u in s2-s1:\n",
    "    print ('公園尚未造冊但已被認養，歡迎至政府網站登記造冊')\n",
    "else:\n",
    "    print(\"未查詢到此公園，再試試看其他的\")"
   ]
  },
  {
   "cell_type": "code",
   "execution_count": 15,
   "id": "395a1879",
   "metadata": {},
   "outputs": [
    {
     "name": "stdout",
     "output_type": "stream",
     "text": [
      "請輸入想認養的公園:民道公園\n",
      "未查詢到此公園，再試試看其他的\n"
     ]
    }
   ],
   "source": [
    "v = input(\"請輸入想認養的公園:\")\n",
    "if v in s1&s2:\n",
    "    print ('公園已經被認養，歡迎認養其他的')\n",
    "elif v in s1-s2:\n",
    "    print ('公園尚未被認養，歡迎認養')\n",
    "elif v in s2-s1:\n",
    "    print ('公園尚未造冊但已被認養，歡迎至政府網站登記造冊')\n",
    "else:\n",
    "    print(\"未查詢到此公園，再試試看其他的\")"
   ]
  }
 ],
 "metadata": {
  "kernelspec": {
   "display_name": "Python 3 (ipykernel)",
   "language": "python",
   "name": "python3"
  },
  "language_info": {
   "codemirror_mode": {
    "name": "ipython",
    "version": 3
   },
   "file_extension": ".py",
   "mimetype": "text/x-python",
   "name": "python",
   "nbconvert_exporter": "python",
   "pygments_lexer": "ipython3",
   "version": "3.9.13"
  }
 },
 "nbformat": 4,
 "nbformat_minor": 5
}
