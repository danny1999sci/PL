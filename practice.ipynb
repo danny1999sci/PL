{
 "cells": [
  {
   "cell_type": "code",
   "execution_count": 17,
   "id": "d7625c20",
   "metadata": {},
   "outputs": [],
   "source": [
    "import pandas as pd #使用pandas套件\n",
    "\n",
    "# read csv file\n",
    "allpark = pd.read_csv(\"allpark.csv\",encoding='big5') #csv存在同一個資料夾 #強制編碼改成big5\n",
    "adoptedpark = pd.read_csv(\"adoptedpark.csv\",encoding='big5')"
   ]
  },
  {
   "cell_type": "code",
   "execution_count": 18,
   "id": "0b00601e",
   "metadata": {
    "scrolled": false
   },
   "outputs": [
    {
     "data": {
      "text/html": [
       "<div>\n",
       "<style scoped>\n",
       "    .dataframe tbody tr th:only-of-type {\n",
       "        vertical-align: middle;\n",
       "    }\n",
       "\n",
       "    .dataframe tbody tr th {\n",
       "        vertical-align: top;\n",
       "    }\n",
       "\n",
       "    .dataframe thead th {\n",
       "        text-align: right;\n",
       "    }\n",
       "</style>\n",
       "<table border=\"1\" class=\"dataframe\">\n",
       "  <thead>\n",
       "    <tr style=\"text-align: right;\">\n",
       "      <th></th>\n",
       "      <th>年度</th>\n",
       "      <th>鄉鎮</th>\n",
       "      <th>段名</th>\n",
       "      <th>地號</th>\n",
       "      <th>公告土地現值</th>\n",
       "    </tr>\n",
       "  </thead>\n",
       "  <tbody>\n",
       "    <tr>\n",
       "      <th>0</th>\n",
       "      <td>112</td>\n",
       "      <td>2</td>\n",
       "      <td>16</td>\n",
       "      <td>102000</td>\n",
       "      <td>0</td>\n",
       "    </tr>\n",
       "    <tr>\n",
       "      <th>1</th>\n",
       "      <td>112</td>\n",
       "      <td>2</td>\n",
       "      <td>16</td>\n",
       "      <td>7757001</td>\n",
       "      <td>0</td>\n",
       "    </tr>\n",
       "    <tr>\n",
       "      <th>2</th>\n",
       "      <td>112</td>\n",
       "      <td>2</td>\n",
       "      <td>16</td>\n",
       "      <td>15503001</td>\n",
       "      <td>0</td>\n",
       "    </tr>\n",
       "  </tbody>\n",
       "</table>\n",
       "</div>"
      ],
      "text/plain": [
       "    年度  鄉鎮  段名        地號  公告土地現值\n",
       "0  112   2  16    102000       0\n",
       "1  112   2  16   7757001       0\n",
       "2  112   2  16  15503001       0"
      ]
     },
     "execution_count": 18,
     "metadata": {},
     "output_type": "execute_result"
    }
   ],
   "source": [
    "price.head(3) #列出檔案前3個"
   ]
  },
  {
   "cell_type": "code",
   "execution_count": 7,
   "id": "9da37b1d",
   "metadata": {},
   "outputs": [
    {
     "name": "stdout",
     "output_type": "stream",
     "text": [
      "<class 'pandas.core.frame.DataFrame'>\n",
      "RangeIndex: 50615 entries, 0 to 50614\n",
      "Data columns (total 5 columns):\n",
      " #   Column  Non-Null Count  Dtype\n",
      "---  ------  --------------  -----\n",
      " 0   年度      50615 non-null  int64\n",
      " 1   鄉鎮      50615 non-null  int64\n",
      " 2   段名      50615 non-null  int64\n",
      " 3   地號      50615 non-null  int64\n",
      " 4   公告土地現值  50615 non-null  int64\n",
      "dtypes: int64(5)\n",
      "memory usage: 1.9 MB\n"
     ]
    }
   ],
   "source": [
    "price.info() #//文件名稱檔案資料"
   ]
  },
  {
   "cell_type": "code",
   "execution_count": null,
   "id": "98a68ea7",
   "metadata": {},
   "outputs": [],
   "source": []
  }
 ],
 "metadata": {
  "kernelspec": {
   "display_name": "Python 3 (ipykernel)",
   "language": "python",
   "name": "python3"
  },
  "language_info": {
   "codemirror_mode": {
    "name": "ipython",
    "version": 3
   },
   "file_extension": ".py",
   "mimetype": "text/x-python",
   "name": "python",
   "nbconvert_exporter": "python",
   "pygments_lexer": "ipython3",
   "version": "3.9.13"
  }
 },
 "nbformat": 4,
 "nbformat_minor": 5
}
