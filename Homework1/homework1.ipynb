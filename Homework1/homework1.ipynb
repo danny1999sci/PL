{
 "cells": [
  {
   "cell_type": "code",
   "execution_count": 1,
   "id": "d0e1c224",
   "metadata": {},
   "outputs": [],
   "source": [
    "import pandas as pd\n",
    "df = pd.read_csv('Starbucks satisfactory survey.csv')"
   ]
  },
  {
   "cell_type": "code",
   "execution_count": 2,
   "id": "998d104c",
   "metadata": {},
   "outputs": [
    {
     "name": "stdout",
     "output_type": "stream",
     "text": [
      "Number of Observations:  122\n",
      "Number of Variables:  21\n",
      "##################################################################################\n"
     ]
    }
   ],
   "source": [
    "#這個數據集有多少個觀測值和變數？\n",
    "print(\"Number of Observations: \", df.shape[0])\n",
    "print(\"Number of Variables: \", df.shape[1])\n",
    "print(\"##################################################################################\")"
   ]
  },
  {
   "cell_type": "code",
   "execution_count": 3,
   "id": "5c36d5ac",
   "metadata": {},
   "outputs": [
    {
     "name": "stdout",
     "output_type": "stream",
     "text": [
      "Number of Respondents:  122\n",
      "##################################################################################\n"
     ]
    }
   ],
   "source": [
    "#有多少人參與了這個調查？\n",
    "print(\"Number of Respondents: \", df[\"Gender\"].count())\n",
    "print(\"##################################################################################\")"
   ]
  },
  {
   "cell_type": "code",
   "execution_count": 4,
   "id": "927ce074",
   "metadata": {},
   "outputs": [
    {
     "name": "stdout",
     "output_type": "stream",
     "text": [
      "Most Common Age Group:  29\n",
      "##################################################################################\n"
     ]
    }
   ],
   "source": [
    "#這個數據集中最常見的年齡層是多少？\n",
    "#年齡層的眾數\n",
    "print(\"Most Common Age Group: \", df[\"Age\"].mode().values[0])\n",
    "print(\"##################################################################################\")"
   ]
  },
  {
   "cell_type": "code",
   "execution_count": 5,
   "id": "61c1352a",
   "metadata": {},
   "outputs": [
    {
     "name": "stdout",
     "output_type": "stream",
     "text": [
      "Most Common Occupation:  Employed\n",
      "##################################################################################\n"
     ]
    }
   ],
   "source": [
    "#在這個數據集中，參與者最多的職業是什麼？\n",
    "print(\"Most Common Occupation: \", df[\"Job\"].mode().values[0])\n",
    "print(\"##################################################################################\")"
   ]
  },
  {
   "cell_type": "code",
   "execution_count": 6,
   "id": "ca574b47",
   "metadata": {},
   "outputs": [
    {
     "name": "stdout",
     "output_type": "stream",
     "text": [
      "Region with Most Respondents:  more than 3km\n",
      "##################################################################################\n"
     ]
    }
   ],
   "source": [
    "#在這個數據集中，哪個地區的參與者最多？\n",
    "#參與者最多的地區\n",
    "print(\"Region with Most Respondents: \", df[\"Location\"].mode().values[0])\n",
    "print(\"##################################################################################\")"
   ]
  },
  {
   "cell_type": "code",
   "execution_count": 7,
   "id": "dcfdd574",
   "metadata": {},
   "outputs": [
    {
     "name": "stdout",
     "output_type": "stream",
     "text": [
      "         Job VisitFrequency   EnjoyType\n",
      "0    Student         Rarely     Dine in\n",
      "1    Student         Rarely   Take away\n",
      "3    Student         Rarely   Take away\n",
      "4    Student        Monthly   Take away\n",
      "5    Student         Rarely     Dine in\n",
      "6    Student         Rarely     Dine in\n",
      "8    Student         Rarely  Drive-thru\n",
      "10   Student         Rarely     Dine in\n",
      "11   Student         Rarely     Dine in\n",
      "12   Student         Weekly   Take away\n",
      "13   Student         Rarely   Take away\n",
      "14   Student         Rarely   Take away\n",
      "23   Student        Monthly  Drive-thru\n",
      "35   Student         Rarely   Take away\n",
      "37   Student         Rarely     Dine in\n",
      "44   Student          Never       never\n",
      "45   Student         Rarely   Take away\n",
      "46   Student          Never     Dine in\n",
      "49   Student         Rarely  Drive-thru\n",
      "51   Student         Rarely     Dine in\n",
      "53   Student         Rarely  Drive-thru\n",
      "57   Student        Monthly     Dine in\n",
      "58   Student        Monthly     Dine in\n",
      "59   Student         Rarely  Drive-thru\n",
      "60   Student         Rarely     Dine in\n",
      "62   Student         Rarely     Dine in\n",
      "65   Student         Rarely     Dine in\n",
      "78   Student         Rarely   Take away\n",
      "79   Student         Rarely   Take away\n",
      "100  Student         Rarely  Drive-thru\n",
      "101  Student         Rarely     Dine in\n",
      "104  Student         Rarely  Drive-thru\n",
      "106  Student         Rarely   Take away\n",
      "107  Student          Never       Never\n",
      "108  Student          Never       never\n",
      "109  Student         Rarely     Dine in\n",
      "110  Student         Rarely   Take away\n",
      "112  Student          Never      Never \n",
      "113  Student         Rarely   Take away\n",
      "115  Student          Daily   Take away\n",
      "116  Student        Monthly     Dine in\n",
      "119  Student         Rarely     Dine in\n",
      "##################################################################################\n"
     ]
    }
   ],
   "source": [
    "#我想要知道學生擁有星巴克會員的名單\n",
    "filt = (df['Job'] == 'Student')\n",
    "print(df.loc[filt, ['Job', 'VisitFrequency', 'EnjoyType']])\n",
    "print(\"##################################################################################\")"
   ]
  },
  {
   "cell_type": "code",
   "execution_count": 8,
   "id": "e4e01996",
   "metadata": {},
   "outputs": [
    {
     "name": "stdout",
     "output_type": "stream",
     "text": [
      "Male customers make up 46.72% and female customers make up 53.28% of respondents.\n",
      "##################################################################################\n"
     ]
    }
   ],
   "source": [
    "#在所有客戶中，男性和女性客戶的比例是多少？\n",
    "gender_count = df['Gender'].value_counts(normalize=True)\n",
    "print(f\"Male customers make up {gender_count['Male']*100:.2f}% and female customers make up {gender_count['Female']*100:.2f}% of respondents.\")\n",
    "print(\"##################################################################################\")"
   ]
  },
  {
   "cell_type": "code",
   "execution_count": 17,
   "id": "ffc32dd6",
   "metadata": {},
   "outputs": [
    {
     "name": "stdout",
     "output_type": "stream",
     "text": [
      "最大的客戶年齡: 55\n",
      "最小的客戶年齡: 15\n"
     ]
    }
   ],
   "source": [
    "#年齡最大的客戶是誰？年齡最小的客戶是誰？\n",
    "oldest = df[\"Age\"].max()\n",
    "print(\"最大的客戶年齡:\",oldest)\n",
    "youngest =df[\"Age\"].min()\n",
    "print(\"最小的客戶年齡:\",youngest)"
   ]
  },
  {
   "cell_type": "code",
   "execution_count": 18,
   "id": "dfc4b5b7",
   "metadata": {},
   "outputs": [
    {
     "name": "stdout",
     "output_type": "stream",
     "text": [
      "Less than RM25,000       0.581967\n",
      "RM25,000 - RM50,000      0.204918\n",
      "RM50,000 - RM100,000     0.139344\n",
      "More than RM150,000      0.049180\n",
      "RM100,000 - RM150,000    0.024590\n",
      "Name: AannualIncome, dtype: float64\n",
      "##################################################################################\n"
     ]
    }
   ],
   "source": [
    "#受訪者中各種收入水平的比例是多少？\n",
    "income_count = df['AannualIncome'].value_counts(normalize=True)\n",
    "print(income_count)\n",
    "\n",
    "print(\"##################################################################################\")"
   ]
  },
  {
   "cell_type": "code",
   "execution_count": null,
   "id": "fd5e1dba",
   "metadata": {},
   "outputs": [],
   "source": []
  },
  {
   "cell_type": "code",
   "execution_count": null,
   "id": "80a8c099",
   "metadata": {},
   "outputs": [],
   "source": []
  }
 ],
 "metadata": {
  "kernelspec": {
   "display_name": "Python 3 (ipykernel)",
   "language": "python",
   "name": "python3"
  },
  "language_info": {
   "codemirror_mode": {
    "name": "ipython",
    "version": 3
   },
   "file_extension": ".py",
   "mimetype": "text/x-python",
   "name": "python",
   "nbconvert_exporter": "python",
   "pygments_lexer": "ipython3",
   "version": "3.9.13"
  }
 },
 "nbformat": 4,
 "nbformat_minor": 5
}
